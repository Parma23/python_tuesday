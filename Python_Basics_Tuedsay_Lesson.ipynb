{
  "cells": [
    {
      "attachments": {},
      "cell_type": "markdown",
      "metadata": {
        "id": "9bJtKniLrs8X"
      },
      "source": [
        "# Coding Temple's Data Analytics Course\n",
        "---\n",
        "## Python Basics Day 2: Functions, Scoping, Data Collections 1 & List Comprehensions\n",
        "---"
      ]
    },
    {
      "attachments": {},
      "cell_type": "markdown",
      "metadata": {
        "id": "qbED-38grs8a"
      },
      "source": [
        "### Tasks Today:\n",
        "\n",
        "<i>Monday Additions (or, and ... if statements)</i>\n",
        "\n",
        "1) String Manipulation <br>\n",
        " &nbsp;&nbsp;&nbsp;&nbsp; a) strip() <br>\n",
        " &nbsp;&nbsp;&nbsp;&nbsp; b) title() <br>\n",
        "2) Working With Lists <br>\n",
        " &nbsp;&nbsp;&nbsp;&nbsp; a) min() <br>\n",
        " &nbsp;&nbsp;&nbsp;&nbsp; b) max() <br>\n",
        " &nbsp;&nbsp;&nbsp;&nbsp; c) sum() <br>\n",
        " &nbsp;&nbsp;&nbsp;&nbsp; d) sort() <br>\n",
        " &nbsp;&nbsp;&nbsp;&nbsp; e) Copying a List <br>\n",
        " &nbsp;&nbsp;&nbsp;&nbsp; f) 'in' keyword <br>\n",
        " &nbsp;&nbsp;&nbsp;&nbsp; g) 'not in' keyword <br>\n",
        " &nbsp;&nbsp;&nbsp;&nbsp; i) Checking an Empty List <br>\n",
        " &nbsp;&nbsp;&nbsp;&nbsp; j) Removing Instances with a Loop <br>\n",
        "3) List Comprehensions <br>\n",
        "4) Tuples <br>\n",
        " &nbsp;&nbsp;&nbsp;&nbsp; a) sorted() <br>\n",
        "5) Functions <br>\n",
        " &nbsp;&nbsp;&nbsp;&nbsp; a) User-Defined vs. Built-In Functions <br>\n",
        " &nbsp;&nbsp;&nbsp;&nbsp; b) Accepting Parameters <br>\n",
        " &nbsp;&nbsp;&nbsp;&nbsp; c) Default Parameters <br>\n",
        " &nbsp;&nbsp;&nbsp;&nbsp; d) Making an Argument Optional <br>\n",
        " &nbsp;&nbsp;&nbsp;&nbsp; e) Keyword Arguments <br>\n",
        " &nbsp;&nbsp;&nbsp;&nbsp; f) Returning Values <br>\n",
        " &nbsp;&nbsp;&nbsp;&nbsp; g) *args <br>\n",
        " &nbsp;&nbsp;&nbsp;&nbsp; h) Docstring <br>\n",
        " &nbsp;&nbsp;&nbsp;&nbsp; i) Using a User Function in a Loop <br>\n",
        "6) Scope"
      ]
    },
    {
      "attachments": {},
      "cell_type": "markdown",
      "metadata": {
        "id": "WaEiK5Mxrs8b"
      },
      "source": [
        "### String Manipulation"
      ]
    },
    {
      "cell_type": "markdown",
      "metadata": {
        "id": "oAHRIMwirs8c"
      },
      "source": [
        "##### .lstrip()"
      ]
    },
    {
      "cell_type": "code",
      "execution_count": null,
      "metadata": {
        "id": "67XdgYVYrs8c"
      },
      "outputs": [],
      "source": []
    },
    {
      "cell_type": "markdown",
      "metadata": {
        "id": "SqdqgTi7rs8d"
      },
      "source": [
        "##### .rstrip()"
      ]
    },
    {
      "cell_type": "code",
      "execution_count": null,
      "metadata": {
        "id": "W4KfZlUdrs8e"
      },
      "outputs": [],
      "source": []
    },
    {
      "cell_type": "markdown",
      "metadata": {
        "id": "gnyAnkkLrs8e"
      },
      "source": [
        "##### .strip()"
      ]
    },
    {
      "cell_type": "code",
      "execution_count": null,
      "metadata": {
        "id": "ee-X-fZurs8f"
      },
      "outputs": [],
      "source": []
    },
    {
      "cell_type": "markdown",
      "metadata": {
        "id": "MiAFvZdPrs8f"
      },
      "source": [
        "##### .title()"
      ]
    },
    {
      "cell_type": "code",
      "execution_count": null,
      "metadata": {
        "id": "6d21S6C6rs8f"
      },
      "outputs": [],
      "source": []
    },
    {
      "cell_type": "markdown",
      "metadata": {
        "id": "D80meSR5rs8g"
      },
      "source": [
        "### String Exercise <br>\n",
        "<p>Strip all white space and capitalize every name in the list given</p>"
      ]
    },
    {
      "cell_type": "code",
      "execution_count": null,
      "metadata": {
        "id": "wPiqY8qFrs8g"
      },
      "outputs": [],
      "source": [
        "names = ['    coNNor', 'max', ' EVan ', 'JORDAN']\n",
        "# HINT: You will need to use a for loop for iteration\n",
        "\n"
      ]
    },
    {
      "cell_type": "markdown",
      "metadata": {
        "id": "OaW8hdDnrs8g"
      },
      "source": [
        "### Working With Lists"
      ]
    },
    {
      "cell_type": "markdown",
      "metadata": {
        "id": "lsl3saTtrs8g"
      },
      "source": [
        "##### min()"
      ]
    },
    {
      "cell_type": "code",
      "execution_count": null,
      "metadata": {
        "id": "DfUyTjiUrs8h"
      },
      "outputs": [],
      "source": []
    },
    {
      "cell_type": "markdown",
      "metadata": {
        "id": "56woj1myrs8h"
      },
      "source": [
        "##### max()"
      ]
    },
    {
      "cell_type": "code",
      "execution_count": null,
      "metadata": {
        "id": "4ifb__khrs8h"
      },
      "outputs": [],
      "source": []
    },
    {
      "cell_type": "markdown",
      "metadata": {
        "id": "Q_LhnHozrs8h"
      },
      "source": [
        "##### sum()"
      ]
    },
    {
      "cell_type": "code",
      "execution_count": null,
      "metadata": {
        "id": "MNBLfI57rs8i"
      },
      "outputs": [],
      "source": []
    },
    {
      "cell_type": "markdown",
      "metadata": {
        "id": "Pmkxsqcwrs8i"
      },
      "source": [
        "##### sorted()"
      ]
    },
    {
      "cell_type": "code",
      "execution_count": null,
      "metadata": {
        "id": "_LpP0pYlrs8i"
      },
      "outputs": [],
      "source": []
    },
    {
      "cell_type": "markdown",
      "metadata": {
        "id": "WUUKnCRHrs8i"
      },
      "source": [
        "##### .sort() <br>\n",
        "<p>Difference between sort and sorted, is that sorted doesn't change original list it returns a copy, while .sort changes the original list</p>"
      ]
    },
    {
      "cell_type": "code",
      "execution_count": null,
      "metadata": {
        "id": "8easNUqGrs8j"
      },
      "outputs": [],
      "source": []
    },
    {
      "cell_type": "markdown",
      "metadata": {
        "id": "Zk7lrB7qrs8j"
      },
      "source": [
        "##### Copying a List"
      ]
    },
    {
      "cell_type": "code",
      "execution_count": null,
      "metadata": {
        "id": "XPnSFoGMrs8j"
      },
      "outputs": [],
      "source": []
    },
    {
      "cell_type": "markdown",
      "metadata": {
        "id": "RxI0RzOgrs8j"
      },
      "source": [
        "##### 'in' keyword"
      ]
    },
    {
      "cell_type": "code",
      "execution_count": null,
      "metadata": {
        "id": "kodTed97rs8j"
      },
      "outputs": [],
      "source": []
    },
    {
      "cell_type": "markdown",
      "metadata": {
        "id": "FxrCx1KNrs8j"
      },
      "source": [
        "##### 'not in' keyword"
      ]
    },
    {
      "cell_type": "code",
      "execution_count": null,
      "metadata": {
        "id": "xNtSNQiJrs8j"
      },
      "outputs": [],
      "source": []
    },
    {
      "cell_type": "markdown",
      "metadata": {
        "id": "BUZcIm0jrs8k"
      },
      "source": [
        "##### Checking an Empty List"
      ]
    },
    {
      "cell_type": "code",
      "execution_count": null,
      "metadata": {
        "id": "0hRGfavzrs8k"
      },
      "outputs": [],
      "source": [
        "\n",
        "\n"
      ]
    },
    {
      "cell_type": "markdown",
      "metadata": {
        "id": "sYkofVKHrs8k"
      },
      "source": [
        "##### Removing Instances with a Loop"
      ]
    },
    {
      "cell_type": "code",
      "execution_count": null,
      "metadata": {
        "id": "9enOHbb4rs8k"
      },
      "outputs": [],
      "source": [
        "\n",
        "\n"
      ]
    },
    {
      "cell_type": "markdown",
      "metadata": {
        "id": "S-x8E0cDrs8k"
      },
      "source": [
        "### List Exercise <br>\n",
        "<p>Remove all duplicates<br><b>Extra: Create a program that will remove any duplicates from a given list</b></p>"
      ]
    },
    {
      "cell_type": "code",
      "execution_count": null,
      "metadata": {
        "id": "BlrVsVUprs8k"
      },
      "outputs": [],
      "source": [
        "names = ['connor', 'connor', 'bob', 'connor', 'evan', 'max', 'evan', 2, 2, 2, 3, 3, 4, 'bob', 'kevin']\n",
        "# Hint 1: You will need an append\n",
        "# Hint 2: Using an empty list will make life easier\n",
        "\n",
        "\n"
      ]
    },
    {
      "cell_type": "markdown",
      "metadata": {
        "id": "6Ci7F4P2rs8k"
      },
      "source": [
        "### List Comprehensions <br>\n",
        "<p>Creating a quickly generated list to work with<br>*result*  = [*transform*    *iteration*         *filter*     ]</p>"
      ]
    },
    {
      "cell_type": "markdown",
      "metadata": {
        "id": "ZnDqczhXrs8l"
      },
      "source": [
        "##### In a list comprehension we have a few pieces:\n",
        "1. The first is the counter/ variable - IN this the variable is x\n",
        "2. then we have a transform for the variable\n",
        "3. The finale part of a list comp is called the condition\n",
        "\n",
        "```python\n",
        "    [variable, transform, condition]\n",
        "```"
      ]
    },
    {
      "cell_type": "code",
      "execution_count": null,
      "metadata": {
        "id": "2fHFPjOOrs8l"
      },
      "outputs": [],
      "source": []
    },
    {
      "cell_type": "markdown",
      "metadata": {
        "id": "3ls5g5A2rs8l"
      },
      "source": [
        "There are a few benefits to using List comprehensions. The most obvious would be that we now have shorter code to work with instead of using 3+ lines of code in the for loop variant.\n",
        "\n",
        "Another is an added benefit to memory usage. Since the list's memory is allocated first before adding elements to it, we don't have to resize the list once we add elements to it.\n",
        "\n",
        "Lastly, list comprehensions are considered the \"pythonic\" way to write code by the PEP8 standards (Python Style Guide)"
      ]
    },
    {
      "cell_type": "code",
      "execution_count": null,
      "metadata": {
        "id": "CPIujsPPrs8l"
      },
      "outputs": [],
      "source": []
    },
    {
      "cell_type": "code",
      "execution_count": null,
      "metadata": {
        "id": "DDWwxsJhrs8l"
      },
      "outputs": [],
      "source": []
    },
    {
      "cell_type": "code",
      "execution_count": null,
      "metadata": {
        "id": "afJhTL0Ars8m"
      },
      "outputs": [],
      "source": []
    },
    {
      "cell_type": "code",
      "execution_count": null,
      "metadata": {
        "id": "QhyfY60Lrs8m"
      },
      "outputs": [],
      "source": []
    },
    {
      "cell_type": "markdown",
      "metadata": {
        "id": "l0OZFm-nrs8m"
      },
      "source": [
        "### Tuples <br>\n",
        "<p><b>Defined as an immutable list</b></p><br>Seperated by commas using parenthesis"
      ]
    },
    {
      "cell_type": "code",
      "execution_count": null,
      "metadata": {
        "id": "qzrkcZvArs8m"
      },
      "outputs": [],
      "source": []
    },
    {
      "cell_type": "markdown",
      "metadata": {
        "id": "HyW7twHCrs8m"
      },
      "source": [
        "##### sorted()"
      ]
    },
    {
      "cell_type": "code",
      "execution_count": null,
      "metadata": {
        "id": "806UVJgFrs8m"
      },
      "outputs": [],
      "source": []
    },
    {
      "cell_type": "markdown",
      "metadata": {
        "id": "obuFNiIErs8m"
      },
      "source": [
        "##### Adding values to a Tuple"
      ]
    },
    {
      "cell_type": "code",
      "execution_count": null,
      "metadata": {
        "id": "ZPkUYr2Trs8m"
      },
      "outputs": [],
      "source": []
    },
    {
      "cell_type": "markdown",
      "metadata": {
        "id": "QX0j43L6rs8m"
      },
      "source": [
        "## Functions"
      ]
    },
    {
      "cell_type": "markdown",
      "metadata": {
        "id": "RDYcwCvVrs8n"
      },
      "source": [
        "##### User-Defined vs. Built-In Functions"
      ]
    },
    {
      "cell_type": "code",
      "execution_count": null,
      "metadata": {
        "id": "z6z8tJiqrs8n"
      },
      "outputs": [],
      "source": []
    },
    {
      "cell_type": "markdown",
      "metadata": {
        "id": "3EK6Bb7Xrs8n"
      },
      "source": [
        "##### Accepting Parameters"
      ]
    },
    {
      "cell_type": "code",
      "execution_count": null,
      "metadata": {
        "id": "NkgHjPLRrs8n"
      },
      "outputs": [],
      "source": []
    },
    {
      "cell_type": "markdown",
      "metadata": {
        "id": "pZtz8D3ors8n"
      },
      "source": [
        "##### Default Parameters"
      ]
    },
    {
      "cell_type": "code",
      "execution_count": null,
      "metadata": {
        "id": "mqOXoR2Zrs8n"
      },
      "outputs": [],
      "source": []
    },
    {
      "cell_type": "markdown",
      "metadata": {
        "id": "4OlHa3j3rs8n"
      },
      "source": [
        "##### Making an Argument Optional"
      ]
    },
    {
      "cell_type": "code",
      "execution_count": null,
      "metadata": {
        "id": "v4IqqRW8rs8n"
      },
      "outputs": [],
      "source": []
    },
    {
      "cell_type": "markdown",
      "metadata": {
        "id": "sJvg1qE3rs8n"
      },
      "source": [
        "##### Keyword Arguments"
      ]
    },
    {
      "cell_type": "code",
      "execution_count": null,
      "metadata": {
        "id": "IazE0eWYrs8o"
      },
      "outputs": [],
      "source": []
    },
    {
      "cell_type": "markdown",
      "metadata": {
        "id": "YVE6ZfCtrs8o"
      },
      "source": [
        "# Creating a start, stop, step function"
      ]
    },
    {
      "cell_type": "code",
      "execution_count": null,
      "metadata": {
        "id": "WrVaUO6Nrs8o"
      },
      "outputs": [],
      "source": []
    },
    {
      "cell_type": "markdown",
      "metadata": {
        "id": "X9Ec0fiKrs8o"
      },
      "source": [
        "##### Returning Values"
      ]
    },
    {
      "cell_type": "code",
      "execution_count": null,
      "metadata": {
        "id": "tRxhyCRVrs8o"
      },
      "outputs": [],
      "source": []
    },
    {
      "cell_type": "markdown",
      "metadata": {
        "id": "Ar3s_91Vrs8o"
      },
      "source": [
        "##### *args"
      ]
    },
    {
      "cell_type": "code",
      "execution_count": null,
      "metadata": {
        "id": "FOKAMCwprs8o"
      },
      "outputs": [],
      "source": []
    },
    {
      "cell_type": "markdown",
      "metadata": {
        "id": "twSjhVegrs8o"
      },
      "source": [
        "##### Docstring"
      ]
    },
    {
      "cell_type": "code",
      "execution_count": null,
      "metadata": {
        "id": "YqowH4COrs8p"
      },
      "outputs": [],
      "source": []
    },
    {
      "cell_type": "markdown",
      "metadata": {
        "id": "EkymtL8Brs8p"
      },
      "source": [
        "##### Using a User Function in a Loop"
      ]
    },
    {
      "cell_type": "code",
      "execution_count": null,
      "metadata": {
        "id": "CX21hhzhrs8p"
      },
      "outputs": [],
      "source": []
    },
    {
      "cell_type": "markdown",
      "metadata": {
        "id": "V7gH_UuPrs8p"
      },
      "source": [
        "## Function Exercise <br>\n",
        "<p>Write a function that loops through a list of first_names and a list of last_names, combines the two and return a list of full_names</p>"
      ]
    },
    {
      "cell_type": "code",
      "execution_count": null,
      "metadata": {
        "id": "ogvq6xo-rs8p"
      },
      "outputs": [],
      "source": [
        "first_name = ['John', 'Evan', 'Jordan', 'Max']\n",
        "last_name = ['Smith', 'Smith', 'Williams', 'Bell']\n",
        "\n",
        "# Output: ['John Smith', 'Evan Smith', 'Jordan Williams', 'Max Bell']\n"
      ]
    },
    {
      "cell_type": "markdown",
      "metadata": {
        "id": "yOjmLQ7Wrs8p"
      },
      "source": [
        "## Scope <br>\n",
        "<p>Scope refers to the ability to access variables, different types of scope include:<br>a) Global<br>b) Function (local)<br>c) Class (local)</p>"
      ]
    },
    {
      "cell_type": "code",
      "execution_count": null,
      "metadata": {
        "id": "Gnb7C0-4rs8p"
      },
      "outputs": [],
      "source": []
    }
  ],
  "metadata": {
    "colab": {
      "provenance": []
    },
    "kernelspec": {
      "display_name": "Python 3",
      "language": "python",
      "name": "python3"
    },
    "language_info": {
      "codemirror_mode": {
        "name": "ipython",
        "version": 3
      },
      "file_extension": ".py",
      "mimetype": "text/x-python",
      "name": "python",
      "nbconvert_exporter": "python",
      "pygments_lexer": "ipython3",
      "version": "3.10.8 (tags/v3.10.8:aaaf517, Oct 11 2022, 16:50:30) [MSC v.1933 64 bit (AMD64)]"
    },
    "vscode": {
      "interpreter": {
        "hash": "26de051ba29f2982a8de78e945f0abaf191376122a1563185a90213a26c5da77"
      }
    }
  },
  "nbformat": 4,
  "nbformat_minor": 0
}
